{
 "cells": [
  {
   "cell_type": "markdown",
   "metadata": {},
   "source": [
    "# Exercise 1"
   ]
  },
  {
   "cell_type": "code",
   "execution_count": 40,
   "metadata": {},
   "outputs": [],
   "source": [
    "import ast\n",
    "\n",
    "_file = open('factorial_dictionary.txt', 'r').read()\n",
    "factorial_dict = ast.literal_eval(_file)\n",
    "\n",
    "\n",
    "def decorator_factorial(func):\n",
    "    def wrapper_factorial(n):\n",
    "        try:\n",
    "            print(factorial_dict[n])\n",
    "            print('OK')\n",
    "        except KeyError:\n",
    "            print('error')\n",
    "            factorial_dict[n] = func(n)\n",
    "            file = open('factorial_dictionary.txt', 'w')\n",
    "            file.write('{}'.format(factorial_dict))\n",
    "            file.close()\n",
    "            print(factorial_dict[n])\n",
    "    return wrapper_factorial\n",
    "\n",
    "\n",
    "@decorator_factorial\n",
    "def factorial(n):\n",
    "    assert n >= 0\n",
    "    if n <= 1:\n",
    "        return 1\n",
    "    res = 1\n",
    "    for k in range(n, 1, -1):\n",
    "        try:\n",
    "            return res * factorial_dict[k]\n",
    "        except KeyError:\n",
    "            res *= k\n",
    "    return res\n"
   ]
  },
  {
   "cell_type": "markdown",
   "metadata": {},
   "source": [
    "# Exercise 2\n"
   ]
  },
  {
   "cell_type": "code",
   "execution_count": 41,
   "metadata": {},
   "outputs": [],
   "source": [
    "def func(obj):\n",
    "    res = {}\n",
    "    methods = [method for method in dir(obj) if callable(getattr(obj, method))]\n",
    "    for el in methods:\n",
    "        print(el)\n",
    "        res[el] = obj.__getattribute__(el)()\n",
    "\n",
    "    return res"
   ]
  },
  {
   "cell_type": "markdown",
   "metadata": {},
   "source": [
    "# Exercise 3"
   ]
  },
  {
   "cell_type": "code",
   "execution_count": 42,
   "metadata": {},
   "outputs": [],
   "source": [
    "import numpy as np\n",
    "class RotateMatrix:\n",
    "    matrix = np.mat('1 2 3; 4 5 6; 7 8 9')\n",
    "    matrix_rot_90 = np.rot90(matrix, 1)\n",
    "    matrix_rot_180 = np.rot90(matrix, 2)\n",
    "    matrix_rot_270 = np.rot90(matrix, 3)\n",
    "    def rot_mat(ang):\n",
    "        if ang % 360 == 0:\n",
    "            return RotateMatrix.matrix\n",
    "        if ang % 270 == 0:\n",
    "            return RotateMatrix.matrix_rot_270\n",
    "        if ang % 180 == 0:\n",
    "            return RotateMatrix.matrix_rot_180\n",
    "        if ang % 90 == 0:\n",
    "            return RotateMatrix.matrix_rot_90\n",
    "        raise ValueError('Value of angle is not valid')\n",
    "    def __init__(self, ang):\n",
    "        self.ang = ang\n",
    "        self.mat = RotateMatrix.rot_mat(ang)        "
   ]
  },
  {
   "cell_type": "code",
   "execution_count": 43,
   "metadata": {},
   "outputs": [
    {
     "data": {
      "text/plain": [
       "matrix([[7, 4, 1],\n",
       "        [8, 5, 2],\n",
       "        [9, 6, 3]])"
      ]
     },
     "execution_count": 43,
     "metadata": {},
     "output_type": "execute_result"
    }
   ],
   "source": [
    "rot_mat = RotateMatrix(270)\n",
    "rot_mat.mat"
   ]
  },
  {
   "cell_type": "markdown",
   "metadata": {},
   "source": [
    "# Exercise 4"
   ]
  },
  {
   "cell_type": "code",
   "execution_count": 265,
   "metadata": {},
   "outputs": [],
   "source": [
    "class Cats:\n",
    "    def __init__(self, name):\n",
    "        self.name = name\n",
    "class Singleton(Cats):\n",
    "    _instance = None  # Keep instance reference \n",
    "    \n",
    "    def __new__(cls, *args, **kwargs):\n",
    "        if not cls._instance:\n",
    "            cls._instance = Cats(*args)\n",
    "        else:\n",
    "            cls._instance.name = args[0]\n",
    "        return cls._instance\n",
    "    \n",
    "     "
   ]
  },
  {
   "cell_type": "code",
   "execution_count": 276,
   "metadata": {},
   "outputs": [
    {
     "name": "stdout",
     "output_type": "stream",
     "text": [
      "barsik\n",
      "gag\n",
      "<__main__.Cats object at 0x0000000005CA6F28> <__main__.Cats object at 0x0000000005CA6F28>\n"
     ]
    }
   ],
   "source": [
    "single = Singleton('barsik')\n",
    "print(single.name)\n",
    "s = Singleton('gag')\n",
    "print(s.name)\n",
    "print(single, s)"
   ]
  }
 ],
 "metadata": {
  "kernelspec": {
   "display_name": "Python 3",
   "language": "python",
   "name": "python3"
  },
  "language_info": {
   "codemirror_mode": {
    "name": "ipython",
    "version": 3
   },
   "file_extension": ".py",
   "mimetype": "text/x-python",
   "name": "python",
   "nbconvert_exporter": "python",
   "pygments_lexer": "ipython3",
   "version": "3.6.5"
  }
 },
 "nbformat": 4,
 "nbformat_minor": 2
}
