{
 "cells": [
  {
   "cell_type": "code",
   "execution_count": 6,
   "metadata": {},
   "outputs": [],
   "source": [
    "import pandas as pd\n",
    "import numpy as np\n",
    "from sklearn import tree\n",
    "import math\n",
    "\n",
    "with open('database.csv', 'rb') as csvfile:\n",
    "    data = pd.read_csv(csvfile)\n",
    "latitude = data.Latitude.tolist()\n",
    "longitude = data.Longitude.tolist()\n",
    "pairs = (np.vstack((latitude, longitude))).T\n",
    "y = [data.Magnitude[i] for i in range(len(data.Magnitude))]"
   ]
  },
  {
   "cell_type": "code",
   "execution_count": 7,
   "metadata": {},
   "outputs": [
    {
     "data": {
      "text/plain": [
       "0.17413777122843682"
      ]
     },
     "execution_count": 7,
     "metadata": {},
     "output_type": "execute_result"
    }
   ],
   "source": [
    "X_half_1 = pairs[:11706, :]\n",
    "X_half_2 = pairs[11706:, :]\n",
    "y_1 = y[:11706]\n",
    "y_2 = y[11706:]\n",
    "clf = tree.DecisionTreeRegressor()\n",
    "clf_1 = clf.fit(X_half_1, y_1)\n",
    "clf_2 = clf.fit(X_half_2, y_2)\n",
    "y_1_pred = clf_2.predict(X_half_1)\n",
    "y_2_pred = clf_1.predict(X_half_2)\n",
    "error = 0\n",
    "for i in range(11706):\n",
    "    error += (y_1[i] - y_1_pred[i]) * (y_1[i] - y_1_pred[i]) + (y_2[i] - y_2_pred[i]) * (y_2[i] - y_2_pred[i])\n",
    "error /= 23412\n",
    "error"
   ]
  }
 ],
 "metadata": {
  "kernelspec": {
   "display_name": "Python 3",
   "language": "python",
   "name": "python3"
  },
  "language_info": {
   "codemirror_mode": {
    "name": "ipython",
    "version": 3
   },
   "file_extension": ".py",
   "mimetype": "text/x-python",
   "name": "python",
   "nbconvert_exporter": "python",
   "pygments_lexer": "ipython3",
   "version": "3.6.4"
  }
 },
 "nbformat": 4,
 "nbformat_minor": 2
}
